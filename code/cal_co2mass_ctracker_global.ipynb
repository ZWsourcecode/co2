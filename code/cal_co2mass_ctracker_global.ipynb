{
 "cells": [
  {
   "cell_type": "code",
   "execution_count": 1,
   "metadata": {
    "pycharm": {
     "is_executing": false
    }
   },
   "outputs": [],
   "source": [
    "import numpy as np\n",
    "import scipy as sp\n",
    "import pandas as pd \n",
    "import matplotlib.pyplot as plt\n",
    "import matplotlib\n",
    "import seaborn as sns\n",
    "import netCDF4\n",
    "import sys\n",
    "%matplotlib inline\n",
    "\n",
    "font = {'weight' : 'bold', 'size' : 14}\n",
    "matplotlib.rc('font', **font)"
   ]
  },
  {
   "cell_type": "markdown",
   "metadata": {},
   "source": [
    "# Define function"
   ]
  },
  {
   "cell_type": "code",
   "execution_count": 2,
   "metadata": {
    "pycharm": {
     "is_executing": false
    }
   },
   "outputs": [],
   "source": [
    "def get_gridarea(lon1,lon2,lat1,lat2,R):\n",
    "    \"\"\" calculate grid area a function of latitude and longitude on earth'ssurface \"\"\"\n",
    "    s = 2*np.pi*(R)**2 * abs(np.sin(np.pi*lat1/180)-np.sin(np.pi*lat2/180)) * abs(lon1-lon2)/360\n",
    "    return s\n",
    "    "
   ]
  },
  {
   "cell_type": "code",
   "execution_count": 3,
   "metadata": {
    "pycharm": {
     "is_executing": false
    }
   },
   "outputs": [],
   "source": [
    "# set path of input and output\n",
    "IN_PATH = \"D:\\\\MyData\\\\icosdata\\\\carbontracker\\\\monthly_global\\\\merge\\\\\"\n",
    "OUT_PATH = \"D:\\\\MyData\\\\jupter\\\\icos\\\\ctracker_model\\\\\"\n",
    "# load data\n",
    "ncdat = netCDF4.Dataset(IN_PATH + 'CT2018_2000_2017_monthly.nc')"
   ]
  },
  {
   "cell_type": "markdown",
   "metadata": {},
   "source": [
    "# CarbonTracker NetCDF file information "
   ]
  },
  {
   "cell_type": "code",
   "execution_count": 4,
   "metadata": {
    "pycharm": {
     "is_executing": false
    }
   },
   "outputs": [
    {
     "name": "stdout",
     "output_type": "stream",
     "text": [
      "dict_keys(['date', 'date_bnds', 'longitude', 'latitude', 'levels', 'boundary', 'co2', 'pressure', 'gph', 'idate'])\n"
     ]
    }
   ],
   "source": [
    "print(ncdat.variables.keys())"
   ]
  },
  {
   "cell_type": "code",
   "execution_count": 5,
   "metadata": {
    "pycharm": {
     "is_executing": false
    }
   },
   "outputs": [
    {
     "name": "stdout",
     "output_type": "stream",
     "text": [
      "<class 'netCDF4._netCDF4.Variable'>\n",
      "float32 co2(date, levels, latitude, longitude)\n",
      "    standard_name: mole_fraction_of_carbon_dioxide_in_air\n",
      "    long_name: mole_fraction_of_carbon_dioxide_in_air\n",
      "    units: mol mol-1\n",
      "unlimited dimensions: date\n",
      "current shape = (216, 25, 180, 360)\n",
      "filling on, default _FillValue of 9.969209968386869e+36 used\n"
     ]
    }
   ],
   "source": [
    "co2 = ncdat.variables['co2'] # (mol/mol)\n",
    "print(co2)"
   ]
  },
  {
   "cell_type": "code",
   "execution_count": 6,
   "metadata": {
    "pycharm": {
     "is_executing": false
    }
   },
   "outputs": [
    {
     "name": "stdout",
     "output_type": "stream",
     "text": [
      "<class 'netCDF4._netCDF4.Variable'>\n",
      "float32 pressure(date, boundary, latitude, longitude)\n",
      "    standard_name: air pressure\n",
      "    long_name: pressure_at_level_boundaries\n",
      "    units: Pa\n",
      "unlimited dimensions: date\n",
      "current shape = (216, 26, 180, 360)\n",
      "filling on, default _FillValue of 9.969209968386869e+36 used\n"
     ]
    }
   ],
   "source": [
    "pressure = ncdat.variables['pressure'] # (Pa)\n",
    "print(pressure)"
   ]
  },
  {
   "cell_type": "code",
   "execution_count": 10,
   "metadata": {
    "pycharm": {
     "is_executing": false
    }
   },
   "outputs": [
    {
     "name": "stdout",
     "output_type": "stream",
     "text": [
      "<class 'netCDF4._netCDF4.Variable'>\n",
      "float32 gph(date, boundary, latitude, longitude)\n",
      "    standard_name: geopotential_height\n",
      "    long_name: geopotential_height_at_level_boundaries\n",
      "    units: m\n",
      "unlimited dimensions: date\n",
      "current shape = (216, 26, 180, 360)\n",
      "filling on, default _FillValue of 9.969209968386869e+36 used\n"
     ]
    }
   ],
   "source": [
    "gph = ncdat.variables['gph'] # (m)\n",
    "print(gph)"
   ]
  },
  {
   "cell_type": "markdown",
   "metadata": {},
   "source": [
    "# Calculate C mass"
   ]
  },
  {
   "cell_type": "code",
   "execution_count": 11,
   "metadata": {
    "pycharm": {
     "is_executing": false
    }
   },
   "outputs": [],
   "source": [
    "# 4d lon and lat\n",
    "arr_lat1 = np.tile(np.arange(90,-90,-1),(360,1)).T\n",
    "arr_lat2 = np.tile(np.arange(89,-91,-1),(360,1)).T\n",
    "arr_lat1_3d = np.repeat(arr_lat1[np.newaxis, :, :], 25, axis=0)\n",
    "arr_lat2_3d = np.repeat(arr_lat2[np.newaxis, :, :], 25, axis=0)\n",
    "arr_lat1_4d = np.repeat(arr_lat1_3d[np.newaxis, :, :], 216, axis=0)\n",
    "arr_lat2_4d = np.repeat(arr_lat2_3d[np.newaxis, :, :], 216, axis=0)\n",
    "\n",
    "lon1 = 1\n",
    "lon2 = 0\n",
    "\n",
    "# calculate difference along levels \n",
    "arr_gphdiff_4d = np.array(abs(gph[:, 0:25, :, :] - gph[:, 1:26, :, :]))\n",
    "gph = gph[:, 0:25, :, :]\n",
    "\n",
    "# netcdf variable to array\n",
    "co2 = np.asarray(co2)\n",
    "\n",
    "# 4d radiu of each level\n",
    "Radiu_earth = 6378.1370 # (km) \n",
    "arr_Radiu_4d = gph/1000+Radiu_earth"
   ]
  },
  {
   "cell_type": "code",
   "execution_count": 13,
   "metadata": {
    "pycharm": {
     "is_executing": false,
     "name": "#%%\n"
    }
   },
   "outputs": [],
   "source": [
    "# calculate grid area (km2), following line will take a lot of memory\n",
    "arr_s_4d = get_gridarea(lon1, lon2, arr_lat1_4d, arr_lat2_4d, arr_Radiu_4d) \n",
    "\n",
    "# if the function get_gridarea is too heavy in this case, then using folling lines\n",
    "# part1 = 2*np.pi*(arr_Radiu_4d)**2 \n",
    "# part2 = abs(np.sin(np.pi*arr_lat1_4d/180)-np.sin(np.pi*arr_lat2_4d/180)) \n",
    "# part3 = abs(arr_lon1_4d-arr_lon2_4d)/360\n",
    "# arr_s_4d = part1 * part2 * part3\n",
    "\n",
    "arr_s_4d = np.array(arr_s_4d.round(4))\n",
    "\n",
    "\n",
    "# calculate difference along levels \n",
    "arr_pdiff_4d = np.array(abs(pressure[:, 0:25, :, :] - pressure[:, 1:26, :, :]))\n",
    "\n",
    "# Calculate air mass,  (N/m2) * m2 * (N/kg) = kg\n",
    "arr_airmass_4d = arr_pdiff_4d * arr_s_4d * 1e6 / 9.81   \n",
    "\n",
    "# calculate CO2 and C mass, (mol/mol) * (g/mol) / (g/mol) * kg = kg\n",
    "arr_co2mass_4d = co2 * 44.009 / 28.9647 * arr_airmass_4d\n",
    "arr_cmass_4d = co2 * 12.011 / 28.9647 * arr_airmass_4d\n",
    "\n",
    "arr_co2ppm_4d = co2 * 1e6"
   ]
  },
  {
   "cell_type": "code",
   "execution_count": 13,
   "metadata": {},
   "outputs": [],
   "source": [
    "# save the NumPy arrays into a native binary format (.npy)\n",
    "np.save(OUT_PATH+'arr_co2mass_4d.npy', arr_co2mass_4d / 1e12) # kg -> Gt\n",
    "np.save(OUT_PATH+'arr_cmass_4d.npy', arr_cmass_4d / 1e12) # kg -> Gt\n",
    "np.save(OUT_PATH+'arr_co2ppm_4d.npy', arr_co2ppm_4d) # ppm\n",
    "# np.save(OUT_PATH+'arr_Radiu_4d.npy', np.array(arr_Radiu_4d)) # km\n",
    "np.save(OUT_PATH+'arr_pdiff_4d.npy', arr_pdiff_4d) # Pa\n",
    "np.save(OUT_PATH+'arr_s_4d.npy', arr_s_4d) # km2\n",
    "np.save(OUT_PATH+'arr_gphdiff_4d.npy', arr_gphdiff_4d) # m\n",
    "\n",
    "# delete variables and clean memory\n",
    "# del arr_co2mass_4d\n",
    "# del arr_cmass_4d\n",
    "# del arr_co2ppm_4d\n",
    "# del arr_Radiu_4d\n",
    "# del arr_pdiff_4d"
   ]
  },
  {
   "cell_type": "code",
   "execution_count": null,
   "metadata": {},
   "outputs": [],
   "source": []
  },
  {
   "cell_type": "code",
   "execution_count": null,
   "metadata": {
    "scrolled": true
   },
   "outputs": [],
   "source": [
    "# list all of variable and its size\n",
    "local_vars = list(locals().items())\n",
    "for var, obj in local_vars:\n",
    "    print(var, sys.getsizeof(obj))"
   ]
  }
 ],
 "metadata": {
  "kernelspec": {
   "display_name": "Python 3",
   "language": "python",
   "name": "python3"
  },
  "language_info": {
   "codemirror_mode": {
    "name": "ipython",
    "version": 3
   },
   "file_extension": ".py",
   "mimetype": "text/x-python",
   "name": "python",
   "nbconvert_exporter": "python",
   "pygments_lexer": "ipython3",
   "version": "3.7.1"
  },
  "pycharm": {
   "stem_cell": {
    "cell_type": "raw",
    "metadata": {
     "collapsed": false
    },
    "source": []
   }
  }
 },
 "nbformat": 4,
 "nbformat_minor": 4
}
